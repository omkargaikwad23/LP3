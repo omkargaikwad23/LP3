{
 "cells": [
  {
   "cell_type": "markdown",
   "id": "f94c0e46",
   "metadata": {},
   "source": [
    "Implement Gradient Descent Algorithm to find the local minima of a function.\n",
    "For example, find the local minima of the function y=(x+3)² starting from the point x=2"
   ]
  },
  {
   "cell_type": "code",
   "execution_count": 2,
   "id": "616811e3",
   "metadata": {},
   "outputs": [],
   "source": [
    "from matplotlib import pyplot as plt\n",
    "import numpy as np"
   ]
  },
  {
   "cell_type": "code",
   "execution_count": 12,
   "id": "ee788312",
   "metadata": {},
   "outputs": [],
   "source": [
    "def fun(x):\n",
    "    return (x+3)**2\n",
    "\n",
    "def derivative(x):\n",
    "    return 2*(x+3)"
   ]
  },
  {
   "cell_type": "code",
   "execution_count": 19,
   "id": "28802b17",
   "metadata": {},
   "outputs": [
    {
     "data": {
      "text/plain": [
       "[<matplotlib.lines.Line2D at 0x235765b6280>]"
      ]
     },
     "execution_count": 19,
     "metadata": {},
     "output_type": "execute_result"
    },
    {
     "data": {
      "image/png": "[encoded data removed]",
      "text/plain": [
       "<Figure size 432x288 with 1 Axes>"
      ]
     },
     "metadata": {
      "needs_background": "light"
     },
     "output_type": "display_data"
    }
   ],
   "source": [
    "x = np.linspace(-26, 20, 100)\n",
    "y = (x+3)**2\n",
    "plt.plot(x,y)"
   ]
  },
  {
   "cell_type": "code",
   "execution_count": 14,
   "id": "4feb937c",
   "metadata": {},
   "outputs": [],
   "source": [
    "x = 2\n",
    "learning_rate = 0.1\n",
    "value=[]\n",
    "n = 100\n",
    "\n",
    "for i in range(n):\n",
    "    value.append(fun(x))\n",
    "    gradient=derivative(x)\n",
    "    x-=learning_rate*gradient"
   ]
  },
  {
   "cell_type": "code",
   "execution_count": 15,
   "id": "e163f2d2",
   "metadata": {},
   "outputs": [
    {
     "data": {
      "text/plain": [
       "[<matplotlib.lines.Line2D at 0x23576504640>]"
      ]
     },
     "execution_count": 15,
     "metadata": {},
     "output_type": "execute_result"
    },
    {
     "data": {
      "image/png": "[encoded data removed]",
      "text/plain": [
       "<Figure size 432x288 with 1 Axes>"
      ]
     },
     "metadata": {
      "needs_background": "light"
     },
     "output_type": "display_data"
    }
   ],
   "source": [
    "plt.plot(value)\n",
    "plt.xlabel(\"n\")\n",
    "plt.ylabel(\"fun(x)\")"
   ]
  },
  {
   "cell_type": "code",
   "execution_count": 17,
   "id": "20442d4f",
   "metadata": {},
   "outputs": [
    {
     "name": "stdout",
     "output_type": "stream",
     "text": [
      "9.117585495868577e-19 1.6209053445792253e-18\n"
     ]
    }
   ],
   "source": [
    "minDiff = 100\n",
    "for i in range(1,len(value)):\n",
    "    if abs(value[i] - value[i-1]) < minDiff:\n",
    "        minDiff = abs(value[i] - value[i-1])\n",
    "        breakPt = value[i]\n",
    "        \n",
    "print(minDiff, breakPt)"
   ]
  },
  {
   "cell_type": "code",
   "execution_count": null,
   "id": "49516ec1",
   "metadata": {},
   "outputs": [],
   "source": []
  }
 ],
 "metadata": {
  "kernelspec": {
   "display_name": "Python 3",
   "language": "python",
   "name": "python3"
  },
  "language_info": {
   "codemirror_mode": {
    "name": "ipython",
    "version": 3
   },
   "file_extension": ".py",
   "mimetype": "text/x-python",
   "name": "python",
   "nbconvert_exporter": "python",
   "pygments_lexer": "ipython3",
   "version": "3.8.8"
  }
 },
 "nbformat": 4,
 "nbformat_minor": 5
}
